{
  "nbformat": 4,
  "nbformat_minor": 0,
  "metadata": {
    "colab": {
      "provenance": []
    },
    "kernelspec": {
      "name": "python3",
      "display_name": "Python 3"
    },
    "language_info": {
      "name": "python"
    }
  },
  "cells": [
    {
      "cell_type": "markdown",
      "source": [
        "# ***Essential Statistical Tests Every Data Scientist Should Know!***"
      ],
      "metadata": {
        "id": "T2JDXaChUsZ2"
      }
    },
    {
      "cell_type": "markdown",
      "source": [
        "# 1. Parametric Statistical Tests"
      ],
      "metadata": {
        "id": "GsmwvyviqhQP"
      }
    },
    {
      "cell_type": "markdown",
      "source": [
        "## 1.1. Regression Tests"
      ],
      "metadata": {
        "id": "QYld4dNwrPFK"
      }
    },
    {
      "cell_type": "markdown",
      "source": [
        "### 1.1.1) Linear Regression"
      ],
      "metadata": {
        "id": "WnVuTuL_Uapc"
      }
    },
    {
      "cell_type": "code",
      "execution_count": 1,
      "metadata": {
        "colab": {
          "base_uri": "https://localhost:8080/"
        },
        "id": "ZhPDz6hZU7QG",
        "outputId": "bb7f6ab5-59ba-42ba-d9ba-c23eed8077c9"
      },
      "outputs": [
        {
          "output_type": "stream",
          "name": "stdout",
          "text": [
            "                            OLS Regression Results                            \n",
            "==============================================================================\n",
            "Dep. Variable:                      y   R-squared:                       0.606\n",
            "Model:                            OLS   Adj. R-squared:                  0.606\n",
            "Method:                 Least Squares   F-statistic:                     3970.\n",
            "Date:                Fri, 14 Jun 2024   Prob (F-statistic):               0.00\n",
            "Time:                        18:41:17   Log-Likelihood:                -22624.\n",
            "No. Observations:               20640   AIC:                         4.527e+04\n",
            "Df Residuals:                   20631   BIC:                         4.534e+04\n",
            "Df Model:                           8                                         \n",
            "Covariance Type:            nonrobust                                         \n",
            "==============================================================================\n",
            "                 coef    std err          t      P>|t|      [0.025      0.975]\n",
            "------------------------------------------------------------------------------\n",
            "const        -36.9419      0.659    -56.067      0.000     -38.233     -35.650\n",
            "MedInc         0.4367      0.004    104.054      0.000       0.428       0.445\n",
            "HouseAge       0.0094      0.000     21.143      0.000       0.009       0.010\n",
            "AveRooms      -0.1073      0.006    -18.235      0.000      -0.119      -0.096\n",
            "AveBedrms      0.6451      0.028     22.928      0.000       0.590       0.700\n",
            "Population -3.976e-06   4.75e-06     -0.837      0.402   -1.33e-05    5.33e-06\n",
            "AveOccup      -0.0038      0.000     -7.769      0.000      -0.005      -0.003\n",
            "Latitude      -0.4213      0.007    -58.541      0.000      -0.435      -0.407\n",
            "Longitude     -0.4345      0.008    -57.682      0.000      -0.449      -0.420\n",
            "==============================================================================\n",
            "Omnibus:                     4393.650   Durbin-Watson:                   0.885\n",
            "Prob(Omnibus):                  0.000   Jarque-Bera (JB):            14087.596\n",
            "Skew:                           1.082   Prob(JB):                         0.00\n",
            "Kurtosis:                       6.420   Cond. No.                     2.38e+05\n",
            "==============================================================================\n",
            "\n",
            "Notes:\n",
            "[1] Standard Errors assume that the covariance matrix of the errors is correctly specified.\n",
            "[2] The condition number is large, 2.38e+05. This might indicate that there are\n",
            "strong multicollinearity or other numerical problems.\n"
          ]
        }
      ],
      "source": [
        "import numpy as np\n",
        "import pandas as pd\n",
        "import statsmodels.api as sm\n",
        "from sklearn.datasets import fetch_california_housing\n",
        "\n",
        "california = fetch_california_housing()\n",
        "X = pd.DataFrame(california.data, columns=california.feature_names)\n",
        "y = california.target\n",
        "X = sm.add_constant(X)\n",
        "\n",
        "# Fit the model\n",
        "model = sm.OLS(y, X).fit()\n",
        "\n",
        "print(model.summary())"
      ]
    },
    {
      "cell_type": "markdown",
      "source": [
        "## 1.2. Comparison Tests"
      ],
      "metadata": {
        "id": "6PLs3YfyrRI2"
      }
    },
    {
      "cell_type": "markdown",
      "source": [
        "### 1.2.1)T-test"
      ],
      "metadata": {
        "id": "LBwCW-HhrThD"
      }
    },
    {
      "cell_type": "markdown",
      "source": [
        "### 1.2.1.1) Independent T-test"
      ],
      "metadata": {
        "id": "veO4X8g3rW0y"
      }
    },
    {
      "cell_type": "code",
      "source": [
        "from scipy.stats import ttest_ind\n",
        "\n",
        "# Example data\n",
        "group1 = np.random.normal(10, 2, 30)\n",
        "group2 = np.random.normal(12, 2, 30)\n",
        "\n",
        "# Perform the independent t-test\n",
        "t_stat, p_value = ttest_ind(group1, group2)\n",
        "print(f\"t-statistic: {t_stat}, p-value: {p_value}\")"
      ],
      "metadata": {
        "colab": {
          "base_uri": "https://localhost:8080/"
        },
        "id": "EgJfSE-Oc7AG",
        "outputId": "0399c584-cc91-40a2-9939-208dcbd6494c"
      },
      "execution_count": 7,
      "outputs": [
        {
          "output_type": "stream",
          "name": "stdout",
          "text": [
            "t-statistic: -4.5676405093057335, p-value: 2.6234849583706998e-05\n"
          ]
        }
      ]
    },
    {
      "cell_type": "markdown",
      "source": [
        "### 1.2.1.2) Paired T-test"
      ],
      "metadata": {
        "id": "duYxV5zETypi"
      }
    },
    {
      "cell_type": "code",
      "source": [
        "from scipy.stats import ttest_rel\n",
        "\n",
        "# Example data\n",
        "before = np.random.normal(10, 2, 30)\n",
        "after = before + np.random.normal(1, 1, 30)\n",
        "\n",
        "# Perform the paired t-test\n",
        "t_stat, p_value = ttest_rel(before, after)\n",
        "print(f\"t-statistic: {t_stat}, p-value: {p_value}\")\n"
      ],
      "metadata": {
        "colab": {
          "base_uri": "https://localhost:8080/"
        },
        "id": "CGPNeIoJhRYn",
        "outputId": "3d6bc324-d49b-4eaf-87a1-0f02a9962eda"
      },
      "execution_count": 8,
      "outputs": [
        {
          "output_type": "stream",
          "name": "stdout",
          "text": [
            "t-statistic: -6.364795749240651, p-value: 5.884756787533127e-07\n"
          ]
        }
      ]
    },
    {
      "cell_type": "markdown",
      "source": [
        "### 1.2.1.3) One Sample T-test"
      ],
      "metadata": {
        "id": "YvbHZJJnrZg0"
      }
    },
    {
      "cell_type": "code",
      "source": [
        "from scipy.stats import ttest_1samp\n",
        "\n",
        "# Example data\n",
        "data = np.random.normal(10, 2, 30)\n",
        "\n",
        "# Perform the one-sample t-test\n",
        "t_stat, p_value = ttest_1samp(data, 10)\n",
        "print(f\"t-statistic: {t_stat}, p-value: {p_value}\")\n"
      ],
      "metadata": {
        "colab": {
          "base_uri": "https://localhost:8080/"
        },
        "id": "hTH-x_NwiFI-",
        "outputId": "6f222a82-a6ce-41b9-b1cc-5f4c3ebf1d45"
      },
      "execution_count": 9,
      "outputs": [
        {
          "output_type": "stream",
          "name": "stdout",
          "text": [
            "t-statistic: 0.5813442795359124, p-value: 0.5655000191402095\n"
          ]
        }
      ]
    },
    {
      "cell_type": "markdown",
      "source": [
        "### 1.2.2)  ANOVA (Analysis of Variance)"
      ],
      "metadata": {
        "id": "twL13lZTrca9"
      }
    },
    {
      "cell_type": "code",
      "source": [
        "from scipy.stats import f_oneway\n",
        "\n",
        "# Example data\n",
        "group1 = np.random.normal(10, 2, 30)\n",
        "group2 = np.random.normal(12, 2, 30)\n",
        "group3 = np.random.normal(11, 2, 30)\n",
        "\n",
        "# Perform the ANOVA test\n",
        "f_stat, p_value = f_oneway(group1, group2, group3)\n",
        "print(f\"F-statistic: {f_stat}, p-value: {p_value}\")\n"
      ],
      "metadata": {
        "colab": {
          "base_uri": "https://localhost:8080/"
        },
        "id": "2cdi5IzXibSD",
        "outputId": "f94418e9-70cb-4753-c235-9c244565313b"
      },
      "execution_count": 10,
      "outputs": [
        {
          "output_type": "stream",
          "name": "stdout",
          "text": [
            "F-statistic: 8.835127567704138, p-value: 0.0003211993727262113\n"
          ]
        }
      ]
    },
    {
      "cell_type": "markdown",
      "source": [
        "### 1.2.3) Z-test"
      ],
      "metadata": {
        "id": "oAjAyJtsrez9"
      }
    },
    {
      "cell_type": "code",
      "source": [
        "import statsmodels.api as sm\n",
        "\n",
        "# Example data\n",
        "data = np.random.normal(10, 2, 100)\n",
        "\n",
        "# Perform the one-sample z-test\n",
        "z_stat, p_value = sm.stats.ztest(data, value=10)\n",
        "print(f\"z-statistic: {z_stat}, p-value: {p_value}\")\n"
      ],
      "metadata": {
        "colab": {
          "base_uri": "https://localhost:8080/"
        },
        "id": "WGJboYBuieol",
        "outputId": "73efa079-0a80-4bcc-c705-da7b005e1a84"
      },
      "execution_count": 11,
      "outputs": [
        {
          "output_type": "stream",
          "name": "stdout",
          "text": [
            "z-statistic: 0.5641495350982042, p-value: 0.5726523688339221\n"
          ]
        }
      ]
    },
    {
      "cell_type": "markdown",
      "source": [
        "## 1.3 Correlation Tests"
      ],
      "metadata": {
        "id": "fUUssxv-S4SM"
      }
    },
    {
      "cell_type": "markdown",
      "source": [
        "### 1.3.1)Pearson Correlation Coefficient"
      ],
      "metadata": {
        "id": "E9Ckvlh0ribB"
      }
    },
    {
      "cell_type": "code",
      "source": [
        "from scipy.stats import pearsonr\n",
        "\n",
        "# Example data\n",
        "x = np.random.normal(10, 2, 30)\n",
        "y = x + np.random.normal(1, 1, 30)\n",
        "\n",
        "# Calculate the Pearson correlation coefficient\n",
        "corr, p_value = pearsonr(x, y)\n",
        "print(f\"Pearson correlation coefficient: {corr}, p-value: {p_value}\")\n"
      ],
      "metadata": {
        "colab": {
          "base_uri": "https://localhost:8080/"
        },
        "id": "4Xf2gwg9ig6b",
        "outputId": "52d106ed-1db5-4336-8101-51c93c856655"
      },
      "execution_count": 12,
      "outputs": [
        {
          "output_type": "stream",
          "name": "stdout",
          "text": [
            "Pearson correlation coefficient: 0.8996467473399045, p-value: 1.3801382955121948e-11\n"
          ]
        }
      ]
    },
    {
      "cell_type": "markdown",
      "source": [
        "# 2. Non-parametric Statistical Tests"
      ],
      "metadata": {
        "id": "-dMDhMDcS8mu"
      }
    },
    {
      "cell_type": "markdown",
      "source": [
        "### 2.1 Chi-square Test"
      ],
      "metadata": {
        "id": "FV63lO5qSyFa"
      }
    },
    {
      "cell_type": "code",
      "source": [
        "import pandas as pd\n",
        "from scipy.stats import chi2_contingency\n",
        "\n",
        "# Example data\n",
        "data = pd.DataFrame({\n",
        "    'A': [10, 20, 30],\n",
        "    'B': [6, 9, 17]\n",
        "})\n",
        "\n",
        "# Create a contingency table\n",
        "contingency_table = pd.crosstab(index=data['A'], columns=data['B'])\n",
        "\n",
        "# Perform the chi-square test\n",
        "chi2, p, dof, expected = chi2_contingency(contingency_table)\n",
        "print(f\"Chi-square statistic: {chi2}, p-value: {p}\")\n"
      ],
      "metadata": {
        "colab": {
          "base_uri": "https://localhost:8080/"
        },
        "id": "zDzs0NYkii8J",
        "outputId": "36a55439-3e54-47a3-a7da-a3af11bdce7c"
      },
      "execution_count": 13,
      "outputs": [
        {
          "output_type": "stream",
          "name": "stdout",
          "text": [
            "Chi-square statistic: 6.000000000000001, p-value: 0.19914827347145564\n"
          ]
        }
      ]
    }
  ]
}